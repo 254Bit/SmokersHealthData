{
 "cells": [
  {
   "cell_type": "code",
   "execution_count": 1,
   "metadata": {},
   "outputs": [],
   "source": [
    "import pandas as pd\n",
    "import numpy as np\n",
    "import plotly.express as px\n",
    "import seaborn as sns\n",
    "import seaborn as sns\n",
    "from matplotlib import pyplot as plt"
   ]
  },
  {
   "cell_type": "code",
   "execution_count": 2,
   "metadata": {},
   "outputs": [
    {
     "data": {
      "text/html": [
       "<div>\n",
       "<style scoped>\n",
       "    .dataframe tbody tr th:only-of-type {\n",
       "        vertical-align: middle;\n",
       "    }\n",
       "\n",
       "    .dataframe tbody tr th {\n",
       "        vertical-align: top;\n",
       "    }\n",
       "\n",
       "    .dataframe thead th {\n",
       "        text-align: right;\n",
       "    }\n",
       "</style>\n",
       "<table border=\"1\" class=\"dataframe\">\n",
       "  <thead>\n",
       "    <tr style=\"text-align: right;\">\n",
       "      <th></th>\n",
       "      <th>age</th>\n",
       "      <th>sex</th>\n",
       "      <th>current_smoker</th>\n",
       "      <th>heart_rate</th>\n",
       "      <th>blood_pressure</th>\n",
       "      <th>cigs_per_day</th>\n",
       "      <th>chol</th>\n",
       "    </tr>\n",
       "  </thead>\n",
       "  <tbody>\n",
       "    <tr>\n",
       "      <th>0</th>\n",
       "      <td>54</td>\n",
       "      <td>male</td>\n",
       "      <td>yes</td>\n",
       "      <td>95</td>\n",
       "      <td>110/72</td>\n",
       "      <td>NaN</td>\n",
       "      <td>219.0</td>\n",
       "    </tr>\n",
       "    <tr>\n",
       "      <th>1</th>\n",
       "      <td>45</td>\n",
       "      <td>male</td>\n",
       "      <td>yes</td>\n",
       "      <td>64</td>\n",
       "      <td>121/72</td>\n",
       "      <td>NaN</td>\n",
       "      <td>248.0</td>\n",
       "    </tr>\n",
       "    <tr>\n",
       "      <th>2</th>\n",
       "      <td>58</td>\n",
       "      <td>male</td>\n",
       "      <td>yes</td>\n",
       "      <td>81</td>\n",
       "      <td>127.5/76</td>\n",
       "      <td>NaN</td>\n",
       "      <td>235.0</td>\n",
       "    </tr>\n",
       "    <tr>\n",
       "      <th>3</th>\n",
       "      <td>42</td>\n",
       "      <td>male</td>\n",
       "      <td>yes</td>\n",
       "      <td>90</td>\n",
       "      <td>122.5/80</td>\n",
       "      <td>NaN</td>\n",
       "      <td>225.0</td>\n",
       "    </tr>\n",
       "    <tr>\n",
       "      <th>4</th>\n",
       "      <td>42</td>\n",
       "      <td>male</td>\n",
       "      <td>yes</td>\n",
       "      <td>62</td>\n",
       "      <td>119/80</td>\n",
       "      <td>NaN</td>\n",
       "      <td>226.0</td>\n",
       "    </tr>\n",
       "  </tbody>\n",
       "</table>\n",
       "</div>"
      ],
      "text/plain": [
       "   age   sex current_smoker  heart_rate blood_pressure  cigs_per_day   chol\n",
       "0   54  male            yes          95         110/72           NaN  219.0\n",
       "1   45  male            yes          64         121/72           NaN  248.0\n",
       "2   58  male            yes          81       127.5/76           NaN  235.0\n",
       "3   42  male            yes          90       122.5/80           NaN  225.0\n",
       "4   42  male            yes          62         119/80           NaN  226.0"
      ]
     },
     "execution_count": 2,
     "metadata": {},
     "output_type": "execute_result"
    }
   ],
   "source": [
    "df = pd.read_csv('smoking_health_data_final.csv')\n",
    "df.head()"
   ]
  },
  {
   "cell_type": "code",
   "execution_count": 3,
   "metadata": {},
   "outputs": [
    {
     "data": {
      "text/plain": [
       "(3900, 7)"
      ]
     },
     "execution_count": 3,
     "metadata": {},
     "output_type": "execute_result"
    }
   ],
   "source": [
    "df.shape"
   ]
  },
  {
   "cell_type": "code",
   "execution_count": 4,
   "metadata": {},
   "outputs": [
    {
     "data": {
      "text/plain": [
       "age                 int64\n",
       "sex                object\n",
       "current_smoker     object\n",
       "heart_rate          int64\n",
       "blood_pressure     object\n",
       "cigs_per_day      float64\n",
       "chol              float64\n",
       "dtype: object"
      ]
     },
     "execution_count": 4,
     "metadata": {},
     "output_type": "execute_result"
    }
   ],
   "source": [
    "df.dtypes"
   ]
  },
  {
   "cell_type": "code",
   "execution_count": 7,
   "metadata": {},
   "outputs": [
    {
     "data": {
      "text/html": [
       "<div>\n",
       "<style scoped>\n",
       "    .dataframe tbody tr th:only-of-type {\n",
       "        vertical-align: middle;\n",
       "    }\n",
       "\n",
       "    .dataframe tbody tr th {\n",
       "        vertical-align: top;\n",
       "    }\n",
       "\n",
       "    .dataframe thead th {\n",
       "        text-align: right;\n",
       "    }\n",
       "</style>\n",
       "<table border=\"1\" class=\"dataframe\">\n",
       "  <thead>\n",
       "    <tr style=\"text-align: right;\">\n",
       "      <th></th>\n",
       "      <th>count</th>\n",
       "      <th>mean</th>\n",
       "      <th>std</th>\n",
       "      <th>min</th>\n",
       "      <th>25%</th>\n",
       "      <th>50%</th>\n",
       "      <th>75%</th>\n",
       "      <th>max</th>\n",
       "    </tr>\n",
       "  </thead>\n",
       "  <tbody>\n",
       "    <tr>\n",
       "      <th>age</th>\n",
       "      <td>3900.0</td>\n",
       "      <td>49.537949</td>\n",
       "      <td>8.559275</td>\n",
       "      <td>32.0</td>\n",
       "      <td>42.0</td>\n",
       "      <td>49.0</td>\n",
       "      <td>56.0</td>\n",
       "      <td>70.0</td>\n",
       "    </tr>\n",
       "    <tr>\n",
       "      <th>heart_rate</th>\n",
       "      <td>3900.0</td>\n",
       "      <td>75.688974</td>\n",
       "      <td>12.015376</td>\n",
       "      <td>44.0</td>\n",
       "      <td>68.0</td>\n",
       "      <td>75.0</td>\n",
       "      <td>82.0</td>\n",
       "      <td>143.0</td>\n",
       "    </tr>\n",
       "    <tr>\n",
       "      <th>cigs_per_day</th>\n",
       "      <td>3886.0</td>\n",
       "      <td>9.168554</td>\n",
       "      <td>12.037999</td>\n",
       "      <td>0.0</td>\n",
       "      <td>0.0</td>\n",
       "      <td>0.0</td>\n",
       "      <td>20.0</td>\n",
       "      <td>70.0</td>\n",
       "    </tr>\n",
       "    <tr>\n",
       "      <th>chol</th>\n",
       "      <td>3893.0</td>\n",
       "      <td>236.595941</td>\n",
       "      <td>44.375365</td>\n",
       "      <td>113.0</td>\n",
       "      <td>206.0</td>\n",
       "      <td>234.0</td>\n",
       "      <td>263.0</td>\n",
       "      <td>696.0</td>\n",
       "    </tr>\n",
       "  </tbody>\n",
       "</table>\n",
       "</div>"
      ],
      "text/plain": [
       "               count        mean        std    min    25%    50%    75%    max\n",
       "age           3900.0   49.537949   8.559275   32.0   42.0   49.0   56.0   70.0\n",
       "heart_rate    3900.0   75.688974  12.015376   44.0   68.0   75.0   82.0  143.0\n",
       "cigs_per_day  3886.0    9.168554  12.037999    0.0    0.0    0.0   20.0   70.0\n",
       "chol          3893.0  236.595941  44.375365  113.0  206.0  234.0  263.0  696.0"
      ]
     },
     "execution_count": 7,
     "metadata": {},
     "output_type": "execute_result"
    }
   ],
   "source": [
    "df.describe().T"
   ]
  },
  {
   "cell_type": "code",
   "execution_count": 8,
   "metadata": {},
   "outputs": [
    {
     "data": {
      "text/plain": [
       "age                0\n",
       "sex                0\n",
       "current_smoker     0\n",
       "heart_rate         0\n",
       "blood_pressure     0\n",
       "cigs_per_day      14\n",
       "chol               7\n",
       "dtype: int64"
      ]
     },
     "execution_count": 8,
     "metadata": {},
     "output_type": "execute_result"
    }
   ],
   "source": [
    "#Check the number of null values\n",
    "df.isna().sum()"
   ]
  },
  {
   "cell_type": "code",
   "execution_count": 11,
   "metadata": {},
   "outputs": [
    {
     "name": "stdout",
     "output_type": "stream",
     "text": [
      "<class 'pandas.core.frame.DataFrame'>\n",
      "RangeIndex: 3900 entries, 0 to 3899\n",
      "Data columns (total 7 columns):\n",
      " #   Column          Non-Null Count  Dtype  \n",
      "---  ------          --------------  -----  \n",
      " 0   age             3900 non-null   int64  \n",
      " 1   sex             3900 non-null   object \n",
      " 2   current_smoker  3900 non-null   object \n",
      " 3   heart_rate      3900 non-null   int64  \n",
      " 4   blood_pressure  3900 non-null   object \n",
      " 5   cigs_per_day    3886 non-null   float64\n",
      " 6   chol            3893 non-null   float64\n",
      "dtypes: float64(2), int64(2), object(3)\n",
      "memory usage: 213.4+ KB\n"
     ]
    }
   ],
   "source": [
    "df.info()"
   ]
  },
  {
   "cell_type": "code",
   "execution_count": 9,
   "metadata": {},
   "outputs": [
    {
     "data": {
      "text/plain": [
       "sex\n",
       "female    2081\n",
       "male      1819\n",
       "Name: count, dtype: int64"
      ]
     },
     "execution_count": 9,
     "metadata": {},
     "output_type": "execute_result"
    }
   ],
   "source": [
    "df['sex'].value_counts()"
   ]
  },
  {
   "cell_type": "code",
   "execution_count": 14,
   "metadata": {},
   "outputs": [
    {
     "data": {
      "text/plain": [
       "sex     current_smoker\n",
       "female  no                243.143541\n",
       "        yes               234.299879\n",
       "male    no                230.713080\n",
       "        yes               234.662125\n",
       "Name: chol, dtype: float64"
      ]
     },
     "execution_count": 14,
     "metadata": {},
     "output_type": "execute_result"
    }
   ],
   "source": [
    "# Calculates the mean cholestrol for each of the gender and smoking status\n",
    "df.groupby(['sex','current_smoker'])['chol'].mean()"
   ]
  },
  {
   "cell_type": "code",
   "execution_count": 15,
   "metadata": {},
   "outputs": [
    {
     "data": {
      "text/plain": [
       "<bound method DataFrame.corr of        sex  heart_rate\n",
       "0     male          95\n",
       "1     male          64\n",
       "2     male          81\n",
       "3     male          90\n",
       "4     male          62\n",
       "...    ...         ...\n",
       "3895  male          88\n",
       "3896  male          70\n",
       "3897  male          70\n",
       "3898  male          85\n",
       "3899  male          98\n",
       "\n",
       "[3900 rows x 2 columns]>"
      ]
     },
     "execution_count": 15,
     "metadata": {},
     "output_type": "execute_result"
    }
   ],
   "source": [
    "# Correlation Analysis\n",
    "correlation = df[['sex','heart_rate']].corr\n",
    "correlation"
   ]
  },
  {
   "cell_type": "code",
   "execution_count": 16,
   "metadata": {},
   "outputs": [
    {
     "name": "stdout",
     "output_type": "stream",
     "text": [
      "chol    113.0  119.0  124.0  126.0  133.0  135.0  137.0  140.0  143.0  144.0  \\\n",
      "sex                                                                            \n",
      "female      0      0      0      0      0      2      0      2      1      1   \n",
      "male        1      1      1      1      1      0      1      0      2      1   \n",
      "\n",
      "chol    ...  392.0  398.0  405.0  410.0  432.0  439.0  453.0  464.0  600.0  \\\n",
      "sex     ...                                                                  \n",
      "female  ...      1      1      0      2      1      0      0      1      1   \n",
      "male    ...      0      0      1      1      0      1      1      0      0   \n",
      "\n",
      "chol    696.0  \n",
      "sex            \n",
      "female      0  \n",
      "male        1  \n",
      "\n",
      "[2 rows x 243 columns]\n"
     ]
    }
   ],
   "source": [
    "# Cross tabulation - Exploring relationships between variables\n",
    "df1 = pd.crosstab(df['sex'], df['chol'])\n",
    "print(df1)"
   ]
  },
  {
   "cell_type": "code",
   "execution_count": 18,
   "metadata": {},
   "outputs": [
    {
     "data": {
      "text/plain": [
       "current_smoker\n",
       "no     1968\n",
       "yes    1932\n",
       "Name: current_smoker, dtype: int64"
      ]
     },
     "execution_count": 18,
     "metadata": {},
     "output_type": "execute_result"
    }
   ],
   "source": [
    "# total count\n",
    "df.groupby('current_smoker')['current_smoker'].count()"
   ]
  }
 ],
 "metadata": {
  "kernelspec": {
   "display_name": "Python 3",
   "language": "python",
   "name": "python3"
  },
  "language_info": {
   "codemirror_mode": {
    "name": "ipython",
    "version": 3
   },
   "file_extension": ".py",
   "mimetype": "text/x-python",
   "name": "python",
   "nbconvert_exporter": "python",
   "pygments_lexer": "ipython3",
   "version": "3.12.0"
  }
 },
 "nbformat": 4,
 "nbformat_minor": 2
}
